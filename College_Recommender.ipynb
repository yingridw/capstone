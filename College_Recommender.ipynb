{
 "cells": [
  {
   "cell_type": "code",
   "execution_count": 2,
   "metadata": {},
   "outputs": [],
   "source": [
    "#!conda install mpl_toolkits\n",
    "# todo: Bar chart with Plotly Express, MAP\n",
    "#from mpl_toolkits.basemap import Basemap as Basemap"
   ]
  },
  {
   "cell_type": "code",
   "execution_count": 19,
   "metadata": {},
   "outputs": [],
   "source": [
    "import pandas as pd\n",
    "import numpy as np\n",
    "import matplotlib.pyplot as plt\n",
    "import seaborn as sns\n",
    "\n",
    "from scipy import sparse # shrink file size of df\n",
    "# pw will calculate DISTANCES (0..N) BASED on cosine similarity\n",
    "from sklearn.metrics.pairwise import pairwise_distances\n",
    "from sklearn.preprocessing import StandardScaler"
   ]
  },
  {
   "cell_type": "code",
   "execution_count": 6,
   "metadata": {},
   "outputs": [],
   "source": [
    "df_clean_readin = pd.read_csv('./datasets/df_clean.csv')"
   ]
  },
  {
   "cell_type": "code",
   "execution_count": 7,
   "metadata": {},
   "outputs": [],
   "source": [
    "df_clean = df_clean_readin.copy()"
   ]
  },
  {
   "cell_type": "markdown",
   "metadata": {},
   "source": [
    "## Colleges in datasets"
   ]
  },
  {
   "cell_type": "code",
   "execution_count": 8,
   "metadata": {},
   "outputs": [
    {
     "data": {
      "text/plain": [
       "Index(['Unnamed: 0', 'unitid', 'instnm', 'city', 'stabbr', 'numbranch', 'main',\n",
       "       'highdeg', 'preddeg', 'control', 'distanceonly', 'tuitionfee_in',\n",
       "       'tuitionfee_out', 'tuitionfee_prog', 'tuitfte', 'avgfacsal', 'relaffil',\n",
       "       'adm_rate_all', 'satvr25', 'satvr75', 'satmt25', 'satmt75', 'satvrmid',\n",
       "       'satmtmid', 'sat_avg_all', 'actcm25', 'actcm75', 'actcmmid', 'actenmid',\n",
       "       'actmtmid', 'pcip01', 'pcip03', 'pcip04', 'pcip05', 'pcip09', 'pcip10',\n",
       "       'pcip11', 'pcip12', 'pcip13', 'pcip14', 'pcip15', 'pcip16', 'pcip19',\n",
       "       'pcip22', 'pcip23', 'pcip24', 'pcip25', 'pcip26', 'pcip27', 'pcip29',\n",
       "       'pcip30', 'pcip31', 'pcip38', 'pcip39', 'pcip40', 'pcip41', 'pcip42',\n",
       "       'pcip43', 'pcip44', 'pcip45', 'pcip46', 'pcip47', 'pcip48', 'pcip49',\n",
       "       'pcip50', 'pcip51', 'pcip52', 'pcip54', 'ugds', 'ugds_white',\n",
       "       'ugds_black', 'ugds_hisp', 'ugds_asian', 'ugds_aian', 'ugds_nhpi',\n",
       "       'ugds_2mor', 'ugds_nra', 'ugds_unkn', 'ug25abv', 'pptug_ef', 'costt4_a',\n",
       "       'costt4_p', 'inexpfte', 'c150_4', 'ret_ft4', 'ret_ftl4', 'pctfloan',\n",
       "       'openadmp', 'debt_mdn', 'cdr3'],\n",
       "      dtype='object')"
      ]
     },
     "execution_count": 8,
     "metadata": {},
     "output_type": "execute_result"
    }
   ],
   "source": [
    "df_clean.columns"
   ]
  },
  {
   "cell_type": "markdown",
   "metadata": {},
   "source": [
    "## Organizing Data, Dealing with Missing Data"
   ]
  },
  {
   "cell_type": "code",
   "execution_count": 9,
   "metadata": {},
   "outputs": [
    {
     "data": {
      "text/plain": [
       "(6191, 90)"
      ]
     },
     "execution_count": 9,
     "metadata": {},
     "output_type": "execute_result"
    }
   ],
   "source": [
    "# not consider Institutions are identified by their religious affiliation \n",
    "df_clean = df_clean[df_clean['relaffil'].isnull()]\n",
    "df_clean['relaffil'].fillna(value = 0, inplace=True)\n",
    "df_clean.shape"
   ]
  },
  {
   "cell_type": "code",
   "execution_count": 25,
   "metadata": {},
   "outputs": [
    {
     "name": "stderr",
     "output_type": "stream",
     "text": [
      "C:\\Users\\yingr\\Anaconda3\\lib\\site-packages\\ipykernel_launcher.py:5: SettingWithCopyWarning: \n",
      "A value is trying to be set on a copy of a slice from a DataFrame\n",
      "\n",
      "See the caveats in the documentation: http://pandas.pydata.org/pandas-docs/stable/user_guide/indexing.html#returning-a-view-versus-a-copy\n",
      "  \"\"\"\n",
      "C:\\Users\\yingr\\Anaconda3\\lib\\site-packages\\ipykernel_launcher.py:6: SettingWithCopyWarning: \n",
      "A value is trying to be set on a copy of a slice from a DataFrame\n",
      "\n",
      "See the caveats in the documentation: http://pandas.pydata.org/pandas-docs/stable/user_guide/indexing.html#returning-a-view-versus-a-copy\n",
      "  \n",
      "C:\\Users\\yingr\\Anaconda3\\lib\\site-packages\\ipykernel_launcher.py:7: SettingWithCopyWarning: \n",
      "A value is trying to be set on a copy of a slice from a DataFrame\n",
      "\n",
      "See the caveats in the documentation: http://pandas.pydata.org/pandas-docs/stable/user_guide/indexing.html#returning-a-view-versus-a-copy\n",
      "  import sys\n",
      "C:\\Users\\yingr\\Anaconda3\\lib\\site-packages\\ipykernel_launcher.py:8: SettingWithCopyWarning: \n",
      "A value is trying to be set on a copy of a slice from a DataFrame\n",
      "\n",
      "See the caveats in the documentation: http://pandas.pydata.org/pandas-docs/stable/user_guide/indexing.html#returning-a-view-versus-a-copy\n",
      "  \n",
      "C:\\Users\\yingr\\Anaconda3\\lib\\site-packages\\ipykernel_launcher.py:9: SettingWithCopyWarning: \n",
      "A value is trying to be set on a copy of a slice from a DataFrame\n",
      "\n",
      "See the caveats in the documentation: http://pandas.pydata.org/pandas-docs/stable/user_guide/indexing.html#returning-a-view-versus-a-copy\n",
      "  if __name__ == '__main__':\n",
      "C:\\Users\\yingr\\Anaconda3\\lib\\site-packages\\ipykernel_launcher.py:10: SettingWithCopyWarning: \n",
      "A value is trying to be set on a copy of a slice from a DataFrame\n",
      "\n",
      "See the caveats in the documentation: http://pandas.pydata.org/pandas-docs/stable/user_guide/indexing.html#returning-a-view-versus-a-copy\n",
      "  # Remove the CWD from sys.path while we load stuff.\n",
      "C:\\Users\\yingr\\Anaconda3\\lib\\site-packages\\ipykernel_launcher.py:11: SettingWithCopyWarning: \n",
      "A value is trying to be set on a copy of a slice from a DataFrame\n",
      "\n",
      "See the caveats in the documentation: http://pandas.pydata.org/pandas-docs/stable/user_guide/indexing.html#returning-a-view-versus-a-copy\n",
      "  # This is added back by InteractiveShellApp.init_path()\n",
      "C:\\Users\\yingr\\Anaconda3\\lib\\site-packages\\ipykernel_launcher.py:12: SettingWithCopyWarning: \n",
      "A value is trying to be set on a copy of a slice from a DataFrame\n",
      "\n",
      "See the caveats in the documentation: http://pandas.pydata.org/pandas-docs/stable/user_guide/indexing.html#returning-a-view-versus-a-copy\n",
      "  if sys.path[0] == '':\n",
      "C:\\Users\\yingr\\Anaconda3\\lib\\site-packages\\ipykernel_launcher.py:13: SettingWithCopyWarning: \n",
      "A value is trying to be set on a copy of a slice from a DataFrame\n",
      "\n",
      "See the caveats in the documentation: http://pandas.pydata.org/pandas-docs/stable/user_guide/indexing.html#returning-a-view-versus-a-copy\n",
      "  del sys.path[0]\n",
      "C:\\Users\\yingr\\Anaconda3\\lib\\site-packages\\ipykernel_launcher.py:14: SettingWithCopyWarning: \n",
      "A value is trying to be set on a copy of a slice from a DataFrame\n",
      "\n",
      "See the caveats in the documentation: http://pandas.pydata.org/pandas-docs/stable/user_guide/indexing.html#returning-a-view-versus-a-copy\n",
      "  \n",
      "C:\\Users\\yingr\\Anaconda3\\lib\\site-packages\\ipykernel_launcher.py:15: SettingWithCopyWarning: \n",
      "A value is trying to be set on a copy of a slice from a DataFrame\n",
      "\n",
      "See the caveats in the documentation: http://pandas.pydata.org/pandas-docs/stable/user_guide/indexing.html#returning-a-view-versus-a-copy\n",
      "  from ipykernel import kernelapp as app\n",
      "C:\\Users\\yingr\\Anaconda3\\lib\\site-packages\\ipykernel_launcher.py:16: SettingWithCopyWarning: \n",
      "A value is trying to be set on a copy of a slice from a DataFrame\n",
      "\n",
      "See the caveats in the documentation: http://pandas.pydata.org/pandas-docs/stable/user_guide/indexing.html#returning-a-view-versus-a-copy\n",
      "  app.launch_new_instance()\n"
     ]
    }
   ],
   "source": [
    "# if the admission rate is Nan, fill it with 100%\n",
    "df_clean.adm_rate_all.fillna(value = 1.0, inplace=True)\n",
    "# where admission rate is 1, fill sat scores the lowest score\n",
    "mask = (df_clean['adm_rate_all'] == 1.0)\n",
    "df_clean['satvr25'][mask] = df_clean['satvr25'].min()\n",
    "df_clean['satvr75'][mask] = df_clean['satvr75'].min()\n",
    "df_clean['satmt25'][mask] = df_clean['satmt25'].min()\n",
    "df_clean['satmt75'][mask] = df_clean['satmt75'].min()\n",
    "df_clean['satvrmid'][mask] = df_clean['satvrmid'].min()\n",
    "df_clean['satmtmid'][mask] = df_clean['satmtmid'].min()\n",
    "df_clean['sat_avg_all'][mask] = df_clean['sat_avg_all'].min()\n",
    "df_clean['actcm75'][mask] = df_clean['actcm75'].min()\n",
    "df_clean['actcm25'][mask] = df_clean['actcm25'].min()\n",
    "df_clean['actcmmid'][mask] = df_clean['actcmmid'].min()\n",
    "df_clean['actmtmid'][mask] = df_clean['actmtmid'].min()\n",
    "df_clean['actenmid'][mask] = df_clean['actenmid'].min()"
   ]
  },
  {
   "cell_type": "code",
   "execution_count": 26,
   "metadata": {},
   "outputs": [],
   "source": [
    "# Fill in Nan values of sat/act with mean\n",
    "df_clean['satvr25'].fillna(value=df_clean['satvr25'].mean(), inplace=True)\n",
    "df_clean['satvr75'].fillna(value=df_clean['satvr75'].mean(), inplace=True)\n",
    "df_clean['satmt25'].fillna(value=df_clean['satmt25'].mean(), inplace=True)\n",
    "df_clean['satmt75'].fillna(value=df_clean['satmt75'].mean(), inplace=True)\n",
    "df_clean['satvrmid'].fillna(value=df_clean['satvrmid'].mean(), inplace=True)\n",
    "df_clean['satmtmid'].fillna(value=df_clean['satmtmid'].mean(), inplace=True)\n",
    "df_clean['sat_avg_all'].fillna(value=df_clean['sat_avg_all'].mean(), inplace=True)\n",
    "df_clean['actcm25'].fillna(value=df_clean['actcm25'].mean(), inplace=True)\n",
    "df_clean['actcm75'].fillna(value=df_clean['actcm75'].mean(), inplace=True)\n",
    "df_clean['actcmmid'].fillna(value=df_clean['actcmmid'].mean(), inplace=True)\n",
    "df_clean['actmtmid'].fillna(value=df_clean['actmtmid'].mean(), inplace=True)\n",
    "df_clean['actenmid'].fillna(value=df_clean['actenmid'].mean(), inplace=True)"
   ]
  },
  {
   "cell_type": "code",
   "execution_count": 13,
   "metadata": {},
   "outputs": [],
   "source": [
    "df_clean['ret_ft4'].fillna(value=df_clean['ret_ftl4'], inplace=True)"
   ]
  },
  {
   "cell_type": "code",
   "execution_count": 14,
   "metadata": {},
   "outputs": [
    {
     "data": {
      "text/html": [
       "<div>\n",
       "<style scoped>\n",
       "    .dataframe tbody tr th:only-of-type {\n",
       "        vertical-align: middle;\n",
       "    }\n",
       "\n",
       "    .dataframe tbody tr th {\n",
       "        vertical-align: top;\n",
       "    }\n",
       "\n",
       "    .dataframe thead th {\n",
       "        text-align: right;\n",
       "    }\n",
       "</style>\n",
       "<table border=\"1\" class=\"dataframe\">\n",
       "  <thead>\n",
       "    <tr style=\"text-align: right;\">\n",
       "      <th></th>\n",
       "      <th>Unnamed: 0</th>\n",
       "      <th>unitid</th>\n",
       "      <th>instnm</th>\n",
       "      <th>city</th>\n",
       "      <th>stabbr</th>\n",
       "      <th>numbranch</th>\n",
       "      <th>main</th>\n",
       "      <th>highdeg</th>\n",
       "      <th>preddeg</th>\n",
       "      <th>control</th>\n",
       "      <th>...</th>\n",
       "      <th>costt4_a</th>\n",
       "      <th>costt4_p</th>\n",
       "      <th>inexpfte</th>\n",
       "      <th>c150_4</th>\n",
       "      <th>ret_ft4</th>\n",
       "      <th>ret_ftl4</th>\n",
       "      <th>pctfloan</th>\n",
       "      <th>openadmp</th>\n",
       "      <th>debt_mdn</th>\n",
       "      <th>cdr3</th>\n",
       "    </tr>\n",
       "  </thead>\n",
       "  <tbody>\n",
       "    <tr>\n",
       "      <th>0</th>\n",
       "      <td>0</td>\n",
       "      <td>100654</td>\n",
       "      <td>Alabama A &amp; M University</td>\n",
       "      <td>Normal</td>\n",
       "      <td>AL</td>\n",
       "      <td>1</td>\n",
       "      <td>1</td>\n",
       "      <td>4</td>\n",
       "      <td>3</td>\n",
       "      <td>1</td>\n",
       "      <td>...</td>\n",
       "      <td>22886.0</td>\n",
       "      <td>NaN</td>\n",
       "      <td>7298.0</td>\n",
       "      <td>0.2396</td>\n",
       "      <td>0.5879</td>\n",
       "      <td>NaN</td>\n",
       "      <td>0.7697</td>\n",
       "      <td>2.0</td>\n",
       "      <td>15000</td>\n",
       "      <td>0.198</td>\n",
       "    </tr>\n",
       "    <tr>\n",
       "      <th>1</th>\n",
       "      <td>1</td>\n",
       "      <td>100663</td>\n",
       "      <td>University of Alabama at Birmingham</td>\n",
       "      <td>Birmingham</td>\n",
       "      <td>AL</td>\n",
       "      <td>1</td>\n",
       "      <td>1</td>\n",
       "      <td>4</td>\n",
       "      <td>3</td>\n",
       "      <td>1</td>\n",
       "      <td>...</td>\n",
       "      <td>24129.0</td>\n",
       "      <td>NaN</td>\n",
       "      <td>17235.0</td>\n",
       "      <td>0.5292</td>\n",
       "      <td>0.8436</td>\n",
       "      <td>NaN</td>\n",
       "      <td>0.5207</td>\n",
       "      <td>2.0</td>\n",
       "      <td>15000</td>\n",
       "      <td>0.059</td>\n",
       "    </tr>\n",
       "  </tbody>\n",
       "</table>\n",
       "<p>2 rows × 90 columns</p>\n",
       "</div>"
      ],
      "text/plain": [
       "   Unnamed: 0  unitid                               instnm        city stabbr  \\\n",
       "0           0  100654             Alabama A & M University      Normal     AL   \n",
       "1           1  100663  University of Alabama at Birmingham  Birmingham     AL   \n",
       "\n",
       "   numbranch  main  highdeg  preddeg  control  ...  costt4_a  costt4_p  \\\n",
       "0          1     1        4        3        1  ...   22886.0       NaN   \n",
       "1          1     1        4        3        1  ...   24129.0       NaN   \n",
       "\n",
       "   inexpfte  c150_4  ret_ft4  ret_ftl4  pctfloan  openadmp  debt_mdn   cdr3  \n",
       "0    7298.0  0.2396   0.5879       NaN    0.7697       2.0     15000  0.198  \n",
       "1   17235.0  0.5292   0.8436       NaN    0.5207       2.0     15000  0.059  \n",
       "\n",
       "[2 rows x 90 columns]"
      ]
     },
     "execution_count": 14,
     "metadata": {},
     "output_type": "execute_result"
    }
   ],
   "source": [
    "df_clean.head(2)"
   ]
  },
  {
   "cell_type": "code",
   "execution_count": 15,
   "metadata": {},
   "outputs": [
    {
     "data": {
      "text/plain": [
       "Index(['Unnamed: 0', 'unitid', 'instnm', 'city', 'stabbr', 'numbranch', 'main',\n",
       "       'highdeg', 'preddeg', 'control', 'distanceonly', 'tuitionfee_in',\n",
       "       'tuitionfee_out', 'tuitionfee_prog', 'tuitfte', 'avgfacsal', 'relaffil',\n",
       "       'adm_rate_all', 'satvr25', 'satvr75', 'satmt25', 'satmt75', 'satvrmid',\n",
       "       'satmtmid', 'sat_avg_all', 'actcm25', 'actcm75', 'actcmmid', 'actenmid',\n",
       "       'actmtmid', 'pcip01', 'pcip03', 'pcip04', 'pcip05', 'pcip09', 'pcip10',\n",
       "       'pcip11', 'pcip12', 'pcip13', 'pcip14', 'pcip15', 'pcip16', 'pcip19',\n",
       "       'pcip22', 'pcip23', 'pcip24', 'pcip25', 'pcip26', 'pcip27', 'pcip29',\n",
       "       'pcip30', 'pcip31', 'pcip38', 'pcip39', 'pcip40', 'pcip41', 'pcip42',\n",
       "       'pcip43', 'pcip44', 'pcip45', 'pcip46', 'pcip47', 'pcip48', 'pcip49',\n",
       "       'pcip50', 'pcip51', 'pcip52', 'pcip54', 'ugds', 'ugds_white',\n",
       "       'ugds_black', 'ugds_hisp', 'ugds_asian', 'ugds_aian', 'ugds_nhpi',\n",
       "       'ugds_2mor', 'ugds_nra', 'ugds_unkn', 'ug25abv', 'pptug_ef', 'costt4_a',\n",
       "       'costt4_p', 'inexpfte', 'c150_4', 'ret_ft4', 'ret_ftl4', 'pctfloan',\n",
       "       'openadmp', 'debt_mdn', 'cdr3'],\n",
       "      dtype='object')"
      ]
     },
     "execution_count": 15,
     "metadata": {},
     "output_type": "execute_result"
    }
   ],
   "source": [
    "df_clean.columns"
   ]
  },
  {
   "cell_type": "code",
   "execution_count": 27,
   "metadata": {},
   "outputs": [
    {
     "data": {
      "text/plain": [
       "(0, (2805, 72))"
      ]
     },
     "execution_count": 27,
     "metadata": {},
     "output_type": "execute_result"
    }
   ],
   "source": [
    "df_recommender = df_clean.drop(columns=['unitid','city','stabbr','numbranch',\n",
    "                                       'main','tuitionfee_in','tuitionfee_out',\n",
    "                                        'tuitionfee_prog','tuitfte','relaffil',\n",
    "                                        'costt4_a','costt4_p','inexpfte',\n",
    "                                        'c150_4','ret_ftl4','openadmp',\n",
    "                                        'debt_mdn','cdr3'\n",
    "                                       ])\n",
    "df_recommender.dropna(inplace=True)\n",
    "df_recommender.isnull().sum().sum(), df_recommender.shape\n",
    "#df_recommender.shape"
   ]
  },
  {
   "cell_type": "code",
   "execution_count": 23,
   "metadata": {},
   "outputs": [],
   "source": [
    "#df_recommender.columns"
   ]
  },
  {
   "cell_type": "code",
   "execution_count": 28,
   "metadata": {},
   "outputs": [],
   "source": [
    "df_recommender['adm_rate_all'] = df_recommender['adm_rate_all'] * 100."
   ]
  },
  {
   "cell_type": "code",
   "execution_count": 29,
   "metadata": {},
   "outputs": [],
   "source": [
    "#df_clean[df_clean['tuitfte'].isnull()]\n",
    "df_recommender_model=df_recommender.set_index('instnm')\n",
    "\n",
    "# Standard Scaler\n",
    "ss = StandardScaler()\n",
    "df_recommender_model_sc = ss.fit_transform(df_recommender_model)\n",
    "\n",
    "recommender= pairwise_distances(df_recommender_model_sc, metric='cosine')\n",
    "#recommender[:5,1]"
   ]
  },
  {
   "cell_type": "code",
   "execution_count": 30,
   "metadata": {},
   "outputs": [
    {
     "data": {
      "text/html": [
       "<div>\n",
       "<style scoped>\n",
       "    .dataframe tbody tr th:only-of-type {\n",
       "        vertical-align: middle;\n",
       "    }\n",
       "\n",
       "    .dataframe tbody tr th {\n",
       "        vertical-align: top;\n",
       "    }\n",
       "\n",
       "    .dataframe thead th {\n",
       "        text-align: right;\n",
       "    }\n",
       "</style>\n",
       "<table border=\"1\" class=\"dataframe\">\n",
       "  <thead>\n",
       "    <tr style=\"text-align: right;\">\n",
       "      <th>instnm</th>\n",
       "      <th>Alabama A &amp; M University</th>\n",
       "      <th>University of Alabama at Birmingham</th>\n",
       "      <th>University of Alabama in Huntsville</th>\n",
       "      <th>Alabama State University</th>\n",
       "      <th>The University of Alabama</th>\n",
       "      <th>Central Alabama Community College</th>\n",
       "      <th>Auburn University at Montgomery</th>\n",
       "      <th>Auburn University</th>\n",
       "      <th>Chattahoochee Valley Community College</th>\n",
       "      <th>South University-Montgomery</th>\n",
       "      <th>...</th>\n",
       "      <th>Westcliff University</th>\n",
       "      <th>Sacramento Ultrasound Institute</th>\n",
       "      <th>Bolivar Technical College</th>\n",
       "      <th>California Institute of Arts &amp; Technology</th>\n",
       "      <th>Mechon L'hoyroa</th>\n",
       "      <th>Gwinnett Institute</th>\n",
       "      <th>Career Quest Learning Center-Mt. Pleasant</th>\n",
       "      <th>Purdue University Northwest</th>\n",
       "      <th>Ross College-Canton</th>\n",
       "      <th>Fortis College-Cutler Bay</th>\n",
       "    </tr>\n",
       "    <tr>\n",
       "      <th>instnm</th>\n",
       "      <th></th>\n",
       "      <th></th>\n",
       "      <th></th>\n",
       "      <th></th>\n",
       "      <th></th>\n",
       "      <th></th>\n",
       "      <th></th>\n",
       "      <th></th>\n",
       "      <th></th>\n",
       "      <th></th>\n",
       "      <th></th>\n",
       "      <th></th>\n",
       "      <th></th>\n",
       "      <th></th>\n",
       "      <th></th>\n",
       "      <th></th>\n",
       "      <th></th>\n",
       "      <th></th>\n",
       "      <th></th>\n",
       "      <th></th>\n",
       "      <th></th>\n",
       "    </tr>\n",
       "  </thead>\n",
       "  <tbody>\n",
       "    <tr>\n",
       "      <th>Alabama A &amp; M University</th>\n",
       "      <td>0.000000</td>\n",
       "      <td>0.487657</td>\n",
       "      <td>0.603533</td>\n",
       "      <td>0.164554</td>\n",
       "      <td>0.657422</td>\n",
       "      <td>1.146818</td>\n",
       "      <td>0.418847</td>\n",
       "      <td>0.580756</td>\n",
       "      <td>1.054803</td>\n",
       "      <td>0.820719</td>\n",
       "      <td>...</td>\n",
       "      <td>1.037548</td>\n",
       "      <td>1.473667</td>\n",
       "      <td>1.432064</td>\n",
       "      <td>1.302403</td>\n",
       "      <td>1.167825</td>\n",
       "      <td>1.149788</td>\n",
       "      <td>1.509690</td>\n",
       "      <td>0.818616</td>\n",
       "      <td>1.337056</td>\n",
       "      <td>1.318801</td>\n",
       "    </tr>\n",
       "    <tr>\n",
       "      <th>University of Alabama at Birmingham</th>\n",
       "      <td>0.487657</td>\n",
       "      <td>0.000000</td>\n",
       "      <td>0.130734</td>\n",
       "      <td>0.448852</td>\n",
       "      <td>0.163396</td>\n",
       "      <td>1.410381</td>\n",
       "      <td>0.135634</td>\n",
       "      <td>0.114402</td>\n",
       "      <td>1.450390</td>\n",
       "      <td>1.307819</td>\n",
       "      <td>...</td>\n",
       "      <td>1.137066</td>\n",
       "      <td>1.447143</td>\n",
       "      <td>1.414506</td>\n",
       "      <td>1.341757</td>\n",
       "      <td>1.213924</td>\n",
       "      <td>1.513168</td>\n",
       "      <td>1.543981</td>\n",
       "      <td>0.349003</td>\n",
       "      <td>1.553097</td>\n",
       "      <td>1.532297</td>\n",
       "    </tr>\n",
       "  </tbody>\n",
       "</table>\n",
       "<p>2 rows × 2805 columns</p>\n",
       "</div>"
      ],
      "text/plain": [
       "instnm                               Alabama A & M University  \\\n",
       "instnm                                                          \n",
       "Alabama A & M University                             0.000000   \n",
       "University of Alabama at Birmingham                  0.487657   \n",
       "\n",
       "instnm                               University of Alabama at Birmingham  \\\n",
       "instnm                                                                     \n",
       "Alabama A & M University                                        0.487657   \n",
       "University of Alabama at Birmingham                             0.000000   \n",
       "\n",
       "instnm                               University of Alabama in Huntsville  \\\n",
       "instnm                                                                     \n",
       "Alabama A & M University                                        0.603533   \n",
       "University of Alabama at Birmingham                             0.130734   \n",
       "\n",
       "instnm                               Alabama State University  \\\n",
       "instnm                                                          \n",
       "Alabama A & M University                             0.164554   \n",
       "University of Alabama at Birmingham                  0.448852   \n",
       "\n",
       "instnm                               The University of Alabama  \\\n",
       "instnm                                                           \n",
       "Alabama A & M University                              0.657422   \n",
       "University of Alabama at Birmingham                   0.163396   \n",
       "\n",
       "instnm                               Central Alabama Community College  \\\n",
       "instnm                                                                   \n",
       "Alabama A & M University                                      1.146818   \n",
       "University of Alabama at Birmingham                           1.410381   \n",
       "\n",
       "instnm                               Auburn University at Montgomery  \\\n",
       "instnm                                                                 \n",
       "Alabama A & M University                                    0.418847   \n",
       "University of Alabama at Birmingham                         0.135634   \n",
       "\n",
       "instnm                               Auburn University  \\\n",
       "instnm                                                   \n",
       "Alabama A & M University                      0.580756   \n",
       "University of Alabama at Birmingham           0.114402   \n",
       "\n",
       "instnm                               Chattahoochee Valley Community College  \\\n",
       "instnm                                                                        \n",
       "Alabama A & M University                                           1.054803   \n",
       "University of Alabama at Birmingham                                1.450390   \n",
       "\n",
       "instnm                               South University-Montgomery  ...  \\\n",
       "instnm                                                            ...   \n",
       "Alabama A & M University                                0.820719  ...   \n",
       "University of Alabama at Birmingham                     1.307819  ...   \n",
       "\n",
       "instnm                               Westcliff University  \\\n",
       "instnm                                                      \n",
       "Alabama A & M University                         1.037548   \n",
       "University of Alabama at Birmingham              1.137066   \n",
       "\n",
       "instnm                               Sacramento Ultrasound Institute  \\\n",
       "instnm                                                                 \n",
       "Alabama A & M University                                    1.473667   \n",
       "University of Alabama at Birmingham                         1.447143   \n",
       "\n",
       "instnm                               Bolivar Technical College  \\\n",
       "instnm                                                           \n",
       "Alabama A & M University                              1.432064   \n",
       "University of Alabama at Birmingham                   1.414506   \n",
       "\n",
       "instnm                               California Institute of Arts & Technology  \\\n",
       "instnm                                                                           \n",
       "Alabama A & M University                                              1.302403   \n",
       "University of Alabama at Birmingham                                   1.341757   \n",
       "\n",
       "instnm                               Mechon L'hoyroa  Gwinnett Institute  \\\n",
       "instnm                                                                     \n",
       "Alabama A & M University                    1.167825            1.149788   \n",
       "University of Alabama at Birmingham         1.213924            1.513168   \n",
       "\n",
       "instnm                               Career Quest Learning Center-Mt. Pleasant  \\\n",
       "instnm                                                                           \n",
       "Alabama A & M University                                              1.509690   \n",
       "University of Alabama at Birmingham                                   1.543981   \n",
       "\n",
       "instnm                               Purdue University Northwest  \\\n",
       "instnm                                                             \n",
       "Alabama A & M University                                0.818616   \n",
       "University of Alabama at Birmingham                     0.349003   \n",
       "\n",
       "instnm                               Ross College-Canton  \\\n",
       "instnm                                                     \n",
       "Alabama A & M University                        1.337056   \n",
       "University of Alabama at Birmingham             1.553097   \n",
       "\n",
       "instnm                               Fortis College-Cutler Bay  \n",
       "instnm                                                          \n",
       "Alabama A & M University                              1.318801  \n",
       "University of Alabama at Birmingham                   1.532297  \n",
       "\n",
       "[2 rows x 2805 columns]"
      ]
     },
     "execution_count": 30,
     "metadata": {},
     "output_type": "execute_result"
    }
   ],
   "source": [
    "recommender_df = pd.DataFrame(recommender,\n",
    "            index=df_recommender_model.index,\n",
    "            columns=df_recommender_model.index)\n",
    "recommender_df.head(2)"
   ]
  },
  {
   "cell_type": "code",
   "execution_count": 31,
   "metadata": {},
   "outputs": [
    {
     "name": "stdout",
     "output_type": "stream",
     "text": [
      "output school list :  ['Rice University', 'Washington University in St Louis', 'Vanderbilt University', 'University of Pennsylvania', 'University of Southern California', 'Cornell University', 'Swarthmore College', 'Dartmouth College']\n"
     ]
    }
   ],
   "source": [
    "inputschool_name = 'Johns Hopkins University'\n",
    "recommender_result = recommender_df[inputschool_name].sort_values()[1:41]\n",
    "output_school_list = []\n",
    "inputschool_adm_rate = df_recommender_model[df_recommender_model.index==inputschool_name]['adm_rate_all'][0]\n",
    "#print(f'inputschool_adm_rate {inputschool_adm_rate} ' )\n",
    "for i in range(len(recommender_result.index)):\n",
    "    school_adm_rate = df_recommender_model[df_recommender_model.index==recommender_result.index[i]]['adm_rate_all'][0] \n",
    "    #print(f'{recommender_result.index[i]} : {school_adm_rate} ' )\n",
    "    if np.abs(inputschool_adm_rate - school_adm_rate) < inputschool_adm_rate*0.3 :\n",
    "        #print('output school list : ',output_school_list)\n",
    "        output_school_list.append(recommender_result.index[i])\n",
    "\n",
    "print('output school list : ',output_school_list)\n",
    "#recommender_result"
   ]
  },
  {
   "cell_type": "code",
   "execution_count": null,
   "metadata": {},
   "outputs": [],
   "source": []
  },
  {
   "cell_type": "code",
   "execution_count": null,
   "metadata": {},
   "outputs": [],
   "source": []
  }
 ],
 "metadata": {
  "kernelspec": {
   "display_name": "Python 3",
   "language": "python",
   "name": "python3"
  },
  "language_info": {
   "codemirror_mode": {
    "name": "ipython",
    "version": 3
   },
   "file_extension": ".py",
   "mimetype": "text/x-python",
   "name": "python",
   "nbconvert_exporter": "python",
   "pygments_lexer": "ipython3",
   "version": "3.7.4"
  }
 },
 "nbformat": 4,
 "nbformat_minor": 2
}
