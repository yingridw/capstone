{
 "cells": [
  {
   "cell_type": "code",
   "execution_count": 238,
   "metadata": {},
   "outputs": [],
   "source": [
    "#!conda install mpl_toolkits\n",
    "# todo: Bar chart with Plotly Express, MAP\n",
    "#from mpl_toolkits.basemap import Basemap as Basemap"
   ]
  },
  {
   "cell_type": "code",
   "execution_count": 239,
   "metadata": {},
   "outputs": [],
   "source": [
    "import pandas as pd\n",
    "import numpy as np\n",
    "import matplotlib.pyplot as plt\n",
    "import seaborn as sns\n",
    "\n",
    "from scipy import sparse # shrink file size of df\n",
    "# pw will calculate DISTANCES (0..N) BASED on cosine similarity\n",
    "from sklearn.metrics.pairwise import pairwise_distances\n",
    "\n",
    "from sklearn.model_selection import GridSearchCV, train_test_split, cross_val_score\n",
    "from sklearn.ensemble import RandomForestRegressor, ExtraTreesClassifier\n",
    "from sklearn.pipeline import Pipeline\n",
    "from sklearn.linear_model import LogisticRegression,LogisticRegressionCV\n",
    "from sklearn.linear_model import LinearRegression\n",
    "from sklearn.metrics import mean_squared_error, r2_score, mean_absolute_error\n",
    "from sklearn.naive_bayes import MultinomialNB, GaussianNB\n",
    "import statsmodels.api as sm\n",
    "from sklearn.preprocessing import StandardScaler"
   ]
  },
  {
   "cell_type": "code",
   "execution_count": 240,
   "metadata": {},
   "outputs": [],
   "source": [
    "df_clean = pd.read_csv('./datasets/df_clean.csv')"
   ]
  },
  {
   "cell_type": "code",
   "execution_count": 241,
   "metadata": {},
   "outputs": [],
   "source": [
    "df_clean.shape\n",
    "df_regression = df_clean.copy()\n",
    "#df_regression.info()"
   ]
  },
  {
   "cell_type": "markdown",
   "metadata": {},
   "source": [
    "## Prepare datasets"
   ]
  },
  {
   "cell_type": "markdown",
   "metadata": {},
   "source": [
    "## Organizing Data, Dealing with Missing Data"
   ]
  },
  {
   "cell_type": "code",
   "execution_count": 242,
   "metadata": {},
   "outputs": [],
   "source": [
    "# not consider Institutions are identified by their religious affiliation \n",
    "#df_regression = df_regression[df_regression['relaffil'].isnull()]\n",
    "#df_regression['relaffil'].fillna(value = 0, inplace=True)\n",
    "#df_regression.shape"
   ]
  },
  {
   "cell_type": "code",
   "execution_count": 243,
   "metadata": {},
   "outputs": [
    {
     "name": "stdout",
     "output_type": "stream",
     "text": [
      "<class 'pandas.core.frame.DataFrame'>\n",
      "RangeIndex: 7112 entries, 0 to 7111\n",
      "Data columns (total 90 columns):\n",
      "Unnamed: 0         7112 non-null int64\n",
      "unitid             7112 non-null int64\n",
      "instnm             7112 non-null object\n",
      "city               7112 non-null object\n",
      "stabbr             7112 non-null object\n",
      "numbranch          7112 non-null int64\n",
      "main               7112 non-null int64\n",
      "highdeg            7112 non-null int64\n",
      "preddeg            7112 non-null int64\n",
      "control            7112 non-null int64\n",
      "distanceonly       6668 non-null float64\n",
      "tuitionfee_in      4021 non-null float64\n",
      "tuitionfee_out     3793 non-null float64\n",
      "tuitionfee_prog    2484 non-null float64\n",
      "tuitfte            6644 non-null float64\n",
      "avgfacsal          4245 non-null float64\n",
      "relaffil           921 non-null float64\n",
      "adm_rate_all       2250 non-null float64\n",
      "satvr25            1238 non-null float64\n",
      "satvr75            1238 non-null float64\n",
      "satmt25            1238 non-null float64\n",
      "satmt75            1238 non-null float64\n",
      "satvrmid           1238 non-null float64\n",
      "satmtmid           1238 non-null float64\n",
      "sat_avg_all        1450 non-null float64\n",
      "actcm25            1292 non-null float64\n",
      "actcm75            1292 non-null float64\n",
      "actcmmid           1292 non-null float64\n",
      "actenmid           1212 non-null float64\n",
      "actmtmid           1212 non-null float64\n",
      "pcip01             6361 non-null float64\n",
      "pcip03             6361 non-null float64\n",
      "pcip04             6361 non-null float64\n",
      "pcip05             6361 non-null float64\n",
      "pcip09             6361 non-null float64\n",
      "pcip10             6361 non-null float64\n",
      "pcip11             6361 non-null float64\n",
      "pcip12             6361 non-null float64\n",
      "pcip13             6361 non-null float64\n",
      "pcip14             6361 non-null float64\n",
      "pcip15             6361 non-null float64\n",
      "pcip16             6361 non-null float64\n",
      "pcip19             6361 non-null float64\n",
      "pcip22             6361 non-null float64\n",
      "pcip23             6361 non-null float64\n",
      "pcip24             6361 non-null float64\n",
      "pcip25             6361 non-null float64\n",
      "pcip26             6361 non-null float64\n",
      "pcip27             6361 non-null float64\n",
      "pcip29             6361 non-null float64\n",
      "pcip30             6361 non-null float64\n",
      "pcip31             6361 non-null float64\n",
      "pcip38             6361 non-null float64\n",
      "pcip39             6361 non-null float64\n",
      "pcip40             6361 non-null float64\n",
      "pcip41             6361 non-null float64\n",
      "pcip42             6361 non-null float64\n",
      "pcip43             6361 non-null float64\n",
      "pcip44             6361 non-null float64\n",
      "pcip45             6361 non-null float64\n",
      "pcip46             6361 non-null float64\n",
      "pcip47             6361 non-null float64\n",
      "pcip48             6361 non-null float64\n",
      "pcip49             6361 non-null float64\n",
      "pcip50             6361 non-null float64\n",
      "pcip51             6361 non-null float64\n",
      "pcip52             6361 non-null float64\n",
      "pcip54             6361 non-null float64\n",
      "ugds               6364 non-null float64\n",
      "ugds_white         6363 non-null float64\n",
      "ugds_black         6363 non-null float64\n",
      "ugds_hisp          6363 non-null float64\n",
      "ugds_asian         6363 non-null float64\n",
      "ugds_aian          6363 non-null float64\n",
      "ugds_nhpi          6363 non-null float64\n",
      "ugds_2mor          6363 non-null float64\n",
      "ugds_nra           6363 non-null float64\n",
      "ugds_unkn          6363 non-null float64\n",
      "ug25abv            6293 non-null float64\n",
      "pptug_ef           6347 non-null float64\n",
      "costt4_a           5886 non-null float64\n",
      "costt4_p           2303 non-null float64\n",
      "inexpfte           6644 non-null float64\n",
      "c150_4             2383 non-null float64\n",
      "ret_ft4            2174 non-null float64\n",
      "ret_ftl4           3446 non-null float64\n",
      "pctfloan           6342 non-null float64\n",
      "openadmp           6184 non-null float64\n",
      "debt_mdn           6973 non-null object\n",
      "cdr3               6085 non-null float64\n",
      "dtypes: float64(79), int64(7), object(4)\n",
      "memory usage: 4.9+ MB\n"
     ]
    }
   ],
   "source": [
    "# Only consider Public and Private NonProfit Colleges DUE to large missing data\n",
    "#df_regression= df_regression[df_regression['control'] != 3] \n",
    "df_regression.info()"
   ]
  },
  {
   "cell_type": "code",
   "execution_count": 244,
   "metadata": {},
   "outputs": [
    {
     "name": "stderr",
     "output_type": "stream",
     "text": [
      "C:\\Users\\yingr\\Anaconda3\\lib\\site-packages\\ipykernel_launcher.py:5: SettingWithCopyWarning: \n",
      "A value is trying to be set on a copy of a slice from a DataFrame\n",
      "\n",
      "See the caveats in the documentation: http://pandas.pydata.org/pandas-docs/stable/user_guide/indexing.html#returning-a-view-versus-a-copy\n",
      "  \"\"\"\n",
      "C:\\Users\\yingr\\Anaconda3\\lib\\site-packages\\ipykernel_launcher.py:6: SettingWithCopyWarning: \n",
      "A value is trying to be set on a copy of a slice from a DataFrame\n",
      "\n",
      "See the caveats in the documentation: http://pandas.pydata.org/pandas-docs/stable/user_guide/indexing.html#returning-a-view-versus-a-copy\n",
      "  \n",
      "C:\\Users\\yingr\\Anaconda3\\lib\\site-packages\\ipykernel_launcher.py:7: SettingWithCopyWarning: \n",
      "A value is trying to be set on a copy of a slice from a DataFrame\n",
      "\n",
      "See the caveats in the documentation: http://pandas.pydata.org/pandas-docs/stable/user_guide/indexing.html#returning-a-view-versus-a-copy\n",
      "  import sys\n",
      "C:\\Users\\yingr\\Anaconda3\\lib\\site-packages\\ipykernel_launcher.py:8: SettingWithCopyWarning: \n",
      "A value is trying to be set on a copy of a slice from a DataFrame\n",
      "\n",
      "See the caveats in the documentation: http://pandas.pydata.org/pandas-docs/stable/user_guide/indexing.html#returning-a-view-versus-a-copy\n",
      "  \n",
      "C:\\Users\\yingr\\Anaconda3\\lib\\site-packages\\ipykernel_launcher.py:9: SettingWithCopyWarning: \n",
      "A value is trying to be set on a copy of a slice from a DataFrame\n",
      "\n",
      "See the caveats in the documentation: http://pandas.pydata.org/pandas-docs/stable/user_guide/indexing.html#returning-a-view-versus-a-copy\n",
      "  if __name__ == '__main__':\n",
      "C:\\Users\\yingr\\Anaconda3\\lib\\site-packages\\ipykernel_launcher.py:10: SettingWithCopyWarning: \n",
      "A value is trying to be set on a copy of a slice from a DataFrame\n",
      "\n",
      "See the caveats in the documentation: http://pandas.pydata.org/pandas-docs/stable/user_guide/indexing.html#returning-a-view-versus-a-copy\n",
      "  # Remove the CWD from sys.path while we load stuff.\n",
      "C:\\Users\\yingr\\Anaconda3\\lib\\site-packages\\ipykernel_launcher.py:11: SettingWithCopyWarning: \n",
      "A value is trying to be set on a copy of a slice from a DataFrame\n",
      "\n",
      "See the caveats in the documentation: http://pandas.pydata.org/pandas-docs/stable/user_guide/indexing.html#returning-a-view-versus-a-copy\n",
      "  # This is added back by InteractiveShellApp.init_path()\n",
      "C:\\Users\\yingr\\Anaconda3\\lib\\site-packages\\ipykernel_launcher.py:12: SettingWithCopyWarning: \n",
      "A value is trying to be set on a copy of a slice from a DataFrame\n",
      "\n",
      "See the caveats in the documentation: http://pandas.pydata.org/pandas-docs/stable/user_guide/indexing.html#returning-a-view-versus-a-copy\n",
      "  if sys.path[0] == '':\n",
      "C:\\Users\\yingr\\Anaconda3\\lib\\site-packages\\ipykernel_launcher.py:13: SettingWithCopyWarning: \n",
      "A value is trying to be set on a copy of a slice from a DataFrame\n",
      "\n",
      "See the caveats in the documentation: http://pandas.pydata.org/pandas-docs/stable/user_guide/indexing.html#returning-a-view-versus-a-copy\n",
      "  del sys.path[0]\n",
      "C:\\Users\\yingr\\Anaconda3\\lib\\site-packages\\ipykernel_launcher.py:14: SettingWithCopyWarning: \n",
      "A value is trying to be set on a copy of a slice from a DataFrame\n",
      "\n",
      "See the caveats in the documentation: http://pandas.pydata.org/pandas-docs/stable/user_guide/indexing.html#returning-a-view-versus-a-copy\n",
      "  \n",
      "C:\\Users\\yingr\\Anaconda3\\lib\\site-packages\\ipykernel_launcher.py:15: SettingWithCopyWarning: \n",
      "A value is trying to be set on a copy of a slice from a DataFrame\n",
      "\n",
      "See the caveats in the documentation: http://pandas.pydata.org/pandas-docs/stable/user_guide/indexing.html#returning-a-view-versus-a-copy\n",
      "  from ipykernel import kernelapp as app\n",
      "C:\\Users\\yingr\\Anaconda3\\lib\\site-packages\\ipykernel_launcher.py:16: SettingWithCopyWarning: \n",
      "A value is trying to be set on a copy of a slice from a DataFrame\n",
      "\n",
      "See the caveats in the documentation: http://pandas.pydata.org/pandas-docs/stable/user_guide/indexing.html#returning-a-view-versus-a-copy\n",
      "  app.launch_new_instance()\n"
     ]
    }
   ],
   "source": [
    "# if the admission rate is Nan, fill it with 100%\n",
    "df_regression.adm_rate_all.fillna(value = 1.0, inplace=True)\n",
    "# where admission rate is 1, fill sat scores the lowest score\n",
    "mask = (df_regression['adm_rate_all'] == 1.0)\n",
    "df_regression['satvr25'][mask] = df_regression['satvr25'].min()\n",
    "df_regression['satvr75'][mask] = df_regression['satvr75'].min()\n",
    "df_regression['satmt25'][mask] = df_regression['satmt25'].min()\n",
    "df_regression['satmt75'][mask] = df_regression['satmt75'].min()\n",
    "df_regression['satvrmid'][mask] = df_regression['satvrmid'].min()\n",
    "df_regression['satmtmid'][mask] = df_regression['satmtmid'].min()\n",
    "df_regression['sat_avg_all'][mask] = df_regression['sat_avg_all'].min()\n",
    "df_regression['actcm75'][mask] = df_regression['actcm75'].min()\n",
    "df_regression['actcm25'][mask] = df_regression['actcm25'].min()\n",
    "df_regression['actcmmid'][mask] = df_regression['actcmmid'].min()\n",
    "df_regression['actmtmid'][mask] = df_regression['actmtmid'].min()\n",
    "df_regression['actenmid'][mask] = df_regression['actenmid'].min()\n",
    "   "
   ]
  },
  {
   "cell_type": "code",
   "execution_count": 245,
   "metadata": {},
   "outputs": [],
   "source": [
    "\n",
    "df_regression = df_regression[['instnm','stabbr','adm_rate_all',\n",
    "                          'satvr25','satvr75',\n",
    "                          'satmt25','satmt75',\n",
    "                          'satvrmid','satmtmid','sat_avg_all'\n",
    "                         ]]\n"
   ]
  },
  {
   "cell_type": "code",
   "execution_count": 246,
   "metadata": {},
   "outputs": [
    {
     "name": "stdout",
     "output_type": "stream",
     "text": [
      "<class 'pandas.core.frame.DataFrame'>\n",
      "RangeIndex: 7112 entries, 0 to 7111\n",
      "Data columns (total 10 columns):\n",
      "instnm          7112 non-null object\n",
      "stabbr          7112 non-null object\n",
      "adm_rate_all    7112 non-null float64\n",
      "satvr25         6187 non-null float64\n",
      "satvr75         6187 non-null float64\n",
      "satmt25         6187 non-null float64\n",
      "satmt75         6187 non-null float64\n",
      "satvrmid        6187 non-null float64\n",
      "satmtmid        6187 non-null float64\n",
      "sat_avg_all     6396 non-null float64\n",
      "dtypes: float64(8), object(2)\n",
      "memory usage: 555.8+ KB\n",
      "<class 'pandas.core.frame.DataFrame'>\n",
      "Int64Index: 6187 entries, 0 to 7110\n",
      "Data columns (total 10 columns):\n",
      "instnm          6187 non-null object\n",
      "stabbr          6187 non-null object\n",
      "adm_rate_all    6187 non-null float64\n",
      "satvr25         6187 non-null float64\n",
      "satvr75         6187 non-null float64\n",
      "satmt25         6187 non-null float64\n",
      "satmt75         6187 non-null float64\n",
      "satvrmid        6187 non-null float64\n",
      "satmtmid        6187 non-null float64\n",
      "sat_avg_all     6187 non-null float64\n",
      "dtypes: float64(8), object(2)\n",
      "memory usage: 531.7+ KB\n"
     ]
    }
   ],
   "source": [
    "df_regression.info()\n",
    "df_regression.dropna(inplace=True)\n",
    "df_regression.info()"
   ]
  },
  {
   "cell_type": "code",
   "execution_count": 247,
   "metadata": {},
   "outputs": [
    {
     "data": {
      "text/plain": [
       "(6185, 10)"
      ]
     },
     "execution_count": 247,
     "metadata": {},
     "output_type": "execute_result"
    }
   ],
   "source": [
    "outlier_to_drop = [828,1866]\n",
    "df_regression.drop(index = outlier_to_drop, inplace=True)\n",
    "df_regression.shape"
   ]
  },
  {
   "cell_type": "code",
   "execution_count": 221,
   "metadata": {},
   "outputs": [],
   "source": [
    "#df_regression.to_csv('./datasets/df_regression.csv')"
   ]
  },
  {
   "cell_type": "markdown",
   "metadata": {},
   "source": [
    "### Check Corr() for Regression"
   ]
  },
  {
   "cell_type": "code",
   "execution_count": 222,
   "metadata": {},
   "outputs": [],
   "source": [
    "#sns.pairplot(df_regression, x_vars= ['adm_rate_all'], y_vars=df_regression.columns )"
   ]
  },
  {
   "cell_type": "code",
   "execution_count": 248,
   "metadata": {},
   "outputs": [
    {
     "data": {
      "text/plain": [
       "adm_rate_all    1.000000\n",
       "satvr75        -0.866263\n",
       "satvrmid       -0.870340\n",
       "satvr25        -0.871599\n",
       "satmt75        -0.871832\n",
       "sat_avg_all    -0.875796\n",
       "satmtmid       -0.877033\n",
       "satmt25        -0.879592\n",
       "Name: adm_rate_all, dtype: float64"
      ]
     },
     "execution_count": 248,
     "metadata": {},
     "output_type": "execute_result"
    }
   ],
   "source": [
    "df_regression.corr()['adm_rate_all'][df_regression.corr()['adm_rate_all'].abs() > 0.5].sort_values(ascending=False)"
   ]
  },
  {
   "cell_type": "code",
   "execution_count": null,
   "metadata": {},
   "outputs": [],
   "source": []
  },
  {
   "cell_type": "markdown",
   "metadata": {},
   "source": [
    "### REGRESSION"
   ]
  },
  {
   "cell_type": "code",
   "execution_count": 249,
   "metadata": {},
   "outputs": [
    {
     "data": {
      "text/plain": [
       "Index(['instnm', 'stabbr', 'adm_rate_all', 'satvr25', 'satvr75', 'satmt25',\n",
       "       'satmt75', 'satvrmid', 'satmtmid', 'sat_avg_all'],\n",
       "      dtype='object')"
      ]
     },
     "execution_count": 249,
     "metadata": {},
     "output_type": "execute_result"
    }
   ],
   "source": [
    "df_regression.columns"
   ]
  },
  {
   "cell_type": "code",
   "execution_count": 250,
   "metadata": {},
   "outputs": [],
   "source": [
    "def result_chk(y_train, y_test, train_preds, test_preds):\n",
    "    train_mse = mean_squared_error(y_train, train_preds)\n",
    "    test_mse = mean_squared_error(y_test, test_preds)\n",
    "    print ('Train MSE: {}'.format(train_mse) )\n",
    "    print('Test MSE: {}'.format(test_mse) )\n",
    "    train_rmse = mean_squared_error(y_train, train_preds) **(1/2)\n",
    "    test_rmse = mean_squared_error(y_test, test_preds) **(1/2)\n",
    "    print ('Train RMSE: {}'.format(train_rmse) )\n",
    "    print('Test RMSE: {}'.format(test_rmse) )\n",
    "    train_r2 = r2_score(y_train, train_preds)\n",
    "    test_r2 = r2_score(y_test, test_preds)\n",
    "    print ('Train R-squared: {}'.format(train_r2) )\n",
    "    print('Test R-squared: {}'.format(test_r2) )\n",
    "    print('cross_val_score: {}'.format(cross_val_score(lr, X_train, y_train, cv=5).mean()))"
   ]
  },
  {
   "cell_type": "code",
   "execution_count": 305,
   "metadata": {},
   "outputs": [],
   "source": [
    "def run_lr(X_train, X_test, y_train, y_test):\n",
    "    lr = LinearRegression()\n",
    "    lr.fit(X_train, y_train)\n",
    "    train_preds =  lr.predict(X_train)\n",
    "    test_preds = lr.predict(X_test)\n",
    "    result_chk(y_train, y_test, train_preds, test_preds)\n",
    "    return(lr)"
   ]
  },
  {
   "cell_type": "code",
   "execution_count": 306,
   "metadata": {},
   "outputs": [],
   "source": [
    "def run_rf(X_train, X_test, y_train, y_test):\n",
    "    rf = RandomForestRegressor(random_state=42)\n",
    "    rf_params = {\n",
    "        'n_estimators' : [60, 100, 150, 200], \n",
    "        'max_depth' : [None],\n",
    "        'max_features' : [None, 'auto'],  # to use max_features\n",
    "        'min_samples_leaf' : [5, 10, 20],\n",
    "    }\n",
    "    rf_gs = GridSearchCV(rf, param_grid=rf_params, cv=3)\n",
    "    rf_gs.fit(X_train, y_train)\n",
    "    print(f' Best Params: {rf_gs.best_params_}')\n",
    "    train_preds =  rf_gs.predict(X_train)\n",
    "    test_preds = rf_gs.predict(X_test)\n",
    "    result_chk(y_train, y_test, train_preds, test_preds)\n",
    "    return(rf_gs)"
   ]
  },
  {
   "cell_type": "markdown",
   "metadata": {},
   "source": [
    "### Safety Category Colleges"
   ]
  },
  {
   "cell_type": "code",
   "execution_count": 302,
   "metadata": {},
   "outputs": [
    {
     "data": {
      "text/html": [
       "<div>\n",
       "<style scoped>\n",
       "    .dataframe tbody tr th:only-of-type {\n",
       "        vertical-align: middle;\n",
       "    }\n",
       "\n",
       "    .dataframe tbody tr th {\n",
       "        vertical-align: top;\n",
       "    }\n",
       "\n",
       "    .dataframe thead th {\n",
       "        text-align: right;\n",
       "    }\n",
       "</style>\n",
       "<table border=\"1\" class=\"dataframe\">\n",
       "  <thead>\n",
       "    <tr style=\"text-align: right;\">\n",
       "      <th></th>\n",
       "      <th>satvr75</th>\n",
       "      <th>satmt75</th>\n",
       "    </tr>\n",
       "  </thead>\n",
       "  <tbody>\n",
       "    <tr>\n",
       "      <th>6537</th>\n",
       "      <td>260.0</td>\n",
       "      <td>338.0</td>\n",
       "    </tr>\n",
       "    <tr>\n",
       "      <th>3673</th>\n",
       "      <td>260.0</td>\n",
       "      <td>338.0</td>\n",
       "    </tr>\n",
       "    <tr>\n",
       "      <th>1552</th>\n",
       "      <td>260.0</td>\n",
       "      <td>338.0</td>\n",
       "    </tr>\n",
       "    <tr>\n",
       "      <th>3000</th>\n",
       "      <td>260.0</td>\n",
       "      <td>338.0</td>\n",
       "    </tr>\n",
       "    <tr>\n",
       "      <th>6329</th>\n",
       "      <td>260.0</td>\n",
       "      <td>338.0</td>\n",
       "    </tr>\n",
       "    <tr>\n",
       "      <th>...</th>\n",
       "      <td>...</td>\n",
       "      <td>...</td>\n",
       "    </tr>\n",
       "    <tr>\n",
       "      <th>2105</th>\n",
       "      <td>260.0</td>\n",
       "      <td>338.0</td>\n",
       "    </tr>\n",
       "    <tr>\n",
       "      <th>2028</th>\n",
       "      <td>620.0</td>\n",
       "      <td>620.0</td>\n",
       "    </tr>\n",
       "    <tr>\n",
       "      <th>2683</th>\n",
       "      <td>260.0</td>\n",
       "      <td>338.0</td>\n",
       "    </tr>\n",
       "    <tr>\n",
       "      <th>3892</th>\n",
       "      <td>260.0</td>\n",
       "      <td>338.0</td>\n",
       "    </tr>\n",
       "    <tr>\n",
       "      <th>2150</th>\n",
       "      <td>260.0</td>\n",
       "      <td>338.0</td>\n",
       "    </tr>\n",
       "  </tbody>\n",
       "</table>\n",
       "<p>4638 rows × 2 columns</p>\n",
       "</div>"
      ],
      "text/plain": [
       "      satvr75  satmt75\n",
       "6537    260.0    338.0\n",
       "3673    260.0    338.0\n",
       "1552    260.0    338.0\n",
       "3000    260.0    338.0\n",
       "6329    260.0    338.0\n",
       "...       ...      ...\n",
       "2105    260.0    338.0\n",
       "2028    620.0    620.0\n",
       "2683    260.0    338.0\n",
       "3892    260.0    338.0\n",
       "2150    260.0    338.0\n",
       "\n",
       "[4638 rows x 2 columns]"
      ]
     },
     "execution_count": 302,
     "metadata": {},
     "output_type": "execute_result"
    }
   ],
   "source": [
    "#X= df_regreasion[['satvr25','satvr75','satmt25','satmt75']]\n",
    "#X= df_regreasion[['satvr75','satmt75']] # Safety\n",
    "#X= df_regreasion[['satvr25','satmt25','satvrmid', 'satmtmid',]] # reach\n",
    "#X= df_regreasion[['satvrmid', 'satmtmid','sat_avg_all']] # target sat_avg_all\n",
    "X= df_regression[['satvr75','satmt75']] # Safety\n",
    "y= df_regression['adm_rate_all'] # .map(np.log)\n",
    "X_train, X_test, y_train, y_test = train_test_split(X, y)"
   ]
  },
  {
   "cell_type": "markdown",
   "metadata": {},
   "source": [
    "Linear Regression"
   ]
  },
  {
   "cell_type": "code",
   "execution_count": 307,
   "metadata": {},
   "outputs": [
    {
     "name": "stdout",
     "output_type": "stream",
     "text": [
      "Train MSE: 0.0065528758487007465\n",
      "Test MSE: 0.006531572285848339\n",
      "Train RMSE: 0.080949835384025\n",
      "Test RMSE: 0.08081814329621993\n",
      "Train R-squared: 0.7537107343077563\n",
      "Test R-squared: 0.7775035465576998\n",
      "cross_val_score: 0.7490369561441372\n"
     ]
    }
   ],
   "source": [
    "lr_safe = run_lr(X_train, X_test, y_train, y_test)    "
   ]
  },
  {
   "cell_type": "markdown",
   "metadata": {},
   "source": [
    "Random Forest"
   ]
  },
  {
   "cell_type": "code",
   "execution_count": 308,
   "metadata": {},
   "outputs": [
    {
     "name": "stdout",
     "output_type": "stream",
     "text": [
      " Best Params: {'max_depth': None, 'max_features': None, 'min_samples_leaf': 10, 'n_estimators': 60}\n",
      "Train MSE: 0.004418980413617153\n",
      "Test MSE: 0.00537512495709579\n",
      "Train RMSE: 0.06647541209813711\n",
      "Test RMSE: 0.07331524368844305\n",
      "Train R-squared: 0.833913007615738\n",
      "Test R-squared: 0.8168976492300006\n",
      "cross_val_score: 0.7490369561441372\n"
     ]
    }
   ],
   "source": [
    "rf_safe = run_rf(X_train, X_test, y_train, y_test)"
   ]
  },
  {
   "cell_type": "code",
   "execution_count": 299,
   "metadata": {},
   "outputs": [
    {
     "data": {
      "text/html": [
       "<div>\n",
       "<style scoped>\n",
       "    .dataframe tbody tr th:only-of-type {\n",
       "        vertical-align: middle;\n",
       "    }\n",
       "\n",
       "    .dataframe tbody tr th {\n",
       "        vertical-align: top;\n",
       "    }\n",
       "\n",
       "    .dataframe thead th {\n",
       "        text-align: right;\n",
       "    }\n",
       "</style>\n",
       "<table border=\"1\" class=\"dataframe\">\n",
       "  <thead>\n",
       "    <tr style=\"text-align: right;\">\n",
       "      <th></th>\n",
       "      <th>0</th>\n",
       "      <th>1</th>\n",
       "    </tr>\n",
       "  </thead>\n",
       "  <tbody>\n",
       "    <tr>\n",
       "      <th>0</th>\n",
       "      <td>770</td>\n",
       "      <td>770</td>\n",
       "    </tr>\n",
       "  </tbody>\n",
       "</table>\n",
       "</div>"
      ],
      "text/plain": [
       "     0    1\n",
       "0  770  770"
      ]
     },
     "execution_count": 299,
     "metadata": {},
     "output_type": "execute_result"
    }
   ],
   "source": [
    "#X_pred= pd.DataFrame([[770,770,770,770]], columns=['satvr25','satmt25','satvrmid','satmtmid'])\n",
    "X_pred= pd.DataFrame([[770,770]] )\n",
    "X_pred"
   ]
  },
  {
   "cell_type": "code",
   "execution_count": 310,
   "metadata": {},
   "outputs": [
    {
     "data": {
      "text/plain": [
       "(0.4532928206514688, 0.12556446210905517)"
      ]
     },
     "execution_count": 310,
     "metadata": {},
     "output_type": "execute_result"
    }
   ],
   "source": [
    "lr_safe.predict(X_pred)[0], rf_safe.predict(X_pred)[0]"
   ]
  },
  {
   "cell_type": "code",
   "execution_count": 332,
   "metadata": {},
   "outputs": [],
   "source": [
    "adm_preds = rf_safe.predict(X_pred)[0] + (lr_safe.predict(X_pred)[0] - rf_safe.predict(X_pred)[0])/3."
   ]
  },
  {
   "cell_type": "code",
   "execution_count": 333,
   "metadata": {},
   "outputs": [
    {
     "data": {
      "text/html": [
       "<div>\n",
       "<style scoped>\n",
       "    .dataframe tbody tr th:only-of-type {\n",
       "        vertical-align: middle;\n",
       "    }\n",
       "\n",
       "    .dataframe tbody tr th {\n",
       "        vertical-align: top;\n",
       "    }\n",
       "\n",
       "    .dataframe thead th {\n",
       "        text-align: right;\n",
       "    }\n",
       "</style>\n",
       "<table border=\"1\" class=\"dataframe\">\n",
       "  <thead>\n",
       "    <tr style=\"text-align: right;\">\n",
       "      <th></th>\n",
       "      <th>instnm</th>\n",
       "      <th>stabbr</th>\n",
       "      <th>adm_rate_all</th>\n",
       "      <th>satvr25</th>\n",
       "      <th>satvr75</th>\n",
       "      <th>satmt25</th>\n",
       "      <th>satmt75</th>\n",
       "      <th>satvrmid</th>\n",
       "      <th>satmtmid</th>\n",
       "      <th>sat_avg_all</th>\n",
       "    </tr>\n",
       "  </thead>\n",
       "  <tbody>\n",
       "    <tr>\n",
       "      <th>830</th>\n",
       "      <td>Georgia Institute of Technology-Main Campus</td>\n",
       "      <td>GA</td>\n",
       "      <td>0.233959</td>\n",
       "      <td>370.0</td>\n",
       "      <td>730.0</td>\n",
       "      <td>720.0</td>\n",
       "      <td>790.0</td>\n",
       "      <td>550.0</td>\n",
       "      <td>755.0</td>\n",
       "      <td>1389.0</td>\n",
       "    </tr>\n",
       "    <tr>\n",
       "      <th>2967</th>\n",
       "      <td>Carnegie Mellon University</td>\n",
       "      <td>PA</td>\n",
       "      <td>0.221984</td>\n",
       "      <td>700.0</td>\n",
       "      <td>760.0</td>\n",
       "      <td>730.0</td>\n",
       "      <td>800.0</td>\n",
       "      <td>730.0</td>\n",
       "      <td>765.0</td>\n",
       "      <td>1506.0</td>\n",
       "    </tr>\n",
       "    <tr>\n",
       "      <th>2448</th>\n",
       "      <td>United States Merchant Marine Academy</td>\n",
       "      <td>NY</td>\n",
       "      <td>0.221563</td>\n",
       "      <td>580.0</td>\n",
       "      <td>620.0</td>\n",
       "      <td>630.0</td>\n",
       "      <td>660.0</td>\n",
       "      <td>600.0</td>\n",
       "      <td>645.0</td>\n",
       "      <td>1269.0</td>\n",
       "    </tr>\n",
       "    <tr>\n",
       "      <th>1621</th>\n",
       "      <td>Wellesley College</td>\n",
       "      <td>MA</td>\n",
       "      <td>0.220791</td>\n",
       "      <td>690.0</td>\n",
       "      <td>760.0</td>\n",
       "      <td>670.0</td>\n",
       "      <td>770.0</td>\n",
       "      <td>725.0</td>\n",
       "      <td>720.0</td>\n",
       "      <td>1448.0</td>\n",
       "    </tr>\n",
       "    <tr>\n",
       "      <th>3714</th>\n",
       "      <td>Washington and Lee University</td>\n",
       "      <td>VA</td>\n",
       "      <td>0.219982</td>\n",
       "      <td>680.0</td>\n",
       "      <td>740.0</td>\n",
       "      <td>670.0</td>\n",
       "      <td>750.0</td>\n",
       "      <td>710.0</td>\n",
       "      <td>710.0</td>\n",
       "      <td>1449.0</td>\n",
       "    </tr>\n",
       "  </tbody>\n",
       "</table>\n",
       "</div>"
      ],
      "text/plain": [
       "                                           instnm stabbr  adm_rate_all  \\\n",
       "830   Georgia Institute of Technology-Main Campus     GA      0.233959   \n",
       "2967                   Carnegie Mellon University     PA      0.221984   \n",
       "2448        United States Merchant Marine Academy     NY      0.221563   \n",
       "1621                            Wellesley College     MA      0.220791   \n",
       "3714                Washington and Lee University     VA      0.219982   \n",
       "\n",
       "      satvr25  satvr75  satmt25  satmt75  satvrmid  satmtmid  sat_avg_all  \n",
       "830     370.0    730.0    720.0    790.0     550.0     755.0       1389.0  \n",
       "2967    700.0    760.0    730.0    800.0     730.0     765.0       1506.0  \n",
       "2448    580.0    620.0    630.0    660.0     600.0     645.0       1269.0  \n",
       "1621    690.0    760.0    670.0    770.0     725.0     720.0       1448.0  \n",
       "3714    680.0    740.0    670.0    750.0     710.0     710.0       1449.0  "
      ]
     },
     "execution_count": 333,
     "metadata": {},
     "output_type": "execute_result"
    }
   ],
   "source": [
    "df_regression[df_regression['adm_rate_all'] < (adm_preds)].sort_values(by='adm_rate_all', ascending=False).head(5)"
   ]
  },
  {
   "cell_type": "markdown",
   "metadata": {},
   "source": [
    "### Target Category Colleges"
   ]
  },
  {
   "cell_type": "code",
   "execution_count": 350,
   "metadata": {},
   "outputs": [],
   "source": [
    "#X= df_regreasion[['satvr25','satvr75','satmt25','satmt75']]\n",
    "#X= df_regreasion[['satvr75','satmt75']] # Safety\n",
    "#X= df_regreasion[['satvr25','satmt25','satvrmid', 'satmtmid',]] # reach\n",
    "#X= df_regreasion[['satvrmid', 'satmtmid','sat_avg_all']] # target sat_avg_all\n",
    "X= df_regression[['satvrmid', 'satmtmid']] # target\n",
    "y= df_regression['adm_rate_all'] # .map(np.log)\n",
    "X_train, X_test, y_train, y_test = train_test_split(X, y)"
   ]
  },
  {
   "cell_type": "markdown",
   "metadata": {},
   "source": [
    "Linear Regression"
   ]
  },
  {
   "cell_type": "code",
   "execution_count": 351,
   "metadata": {},
   "outputs": [
    {
     "name": "stdout",
     "output_type": "stream",
     "text": [
      "Train MSE: 0.006181558420654084\n",
      "Test MSE: 0.0066252463156280025\n",
      "Train RMSE: 0.07862288738436209\n",
      "Test RMSE: 0.0813956160713094\n",
      "Train R-squared: 0.7711234192426012\n",
      "Test R-squared: 0.7648656063928563\n",
      "cross_val_score: 0.7685056501038237\n"
     ]
    }
   ],
   "source": [
    "lr_safe = run_lr(X_train, X_test, y_train, y_test)    "
   ]
  },
  {
   "cell_type": "markdown",
   "metadata": {},
   "source": [
    "Random Forest"
   ]
  },
  {
   "cell_type": "code",
   "execution_count": 352,
   "metadata": {},
   "outputs": [
    {
     "name": "stdout",
     "output_type": "stream",
     "text": [
      " Best Params: {'max_depth': None, 'max_features': None, 'min_samples_leaf': 20, 'n_estimators': 200}\n",
      "Train MSE: 0.004435708485471558\n",
      "Test MSE: 0.005309601748839497\n",
      "Train RMSE: 0.0666011147464632\n",
      "Test RMSE: 0.07286701413423977\n",
      "Train R-squared: 0.8357647501964584\n",
      "Test R-squared: 0.8115587061927276\n",
      "cross_val_score: 0.7685056501038237\n"
     ]
    }
   ],
   "source": [
    "rf_safe = run_rf(X_train, X_test, y_train, y_test)"
   ]
  },
  {
   "cell_type": "code",
   "execution_count": 353,
   "metadata": {},
   "outputs": [
    {
     "data": {
      "text/html": [
       "<div>\n",
       "<style scoped>\n",
       "    .dataframe tbody tr th:only-of-type {\n",
       "        vertical-align: middle;\n",
       "    }\n",
       "\n",
       "    .dataframe tbody tr th {\n",
       "        vertical-align: top;\n",
       "    }\n",
       "\n",
       "    .dataframe thead th {\n",
       "        text-align: right;\n",
       "    }\n",
       "</style>\n",
       "<table border=\"1\" class=\"dataframe\">\n",
       "  <thead>\n",
       "    <tr style=\"text-align: right;\">\n",
       "      <th></th>\n",
       "      <th>0</th>\n",
       "      <th>1</th>\n",
       "    </tr>\n",
       "  </thead>\n",
       "  <tbody>\n",
       "    <tr>\n",
       "      <th>0</th>\n",
       "      <td>770</td>\n",
       "      <td>770</td>\n",
       "    </tr>\n",
       "  </tbody>\n",
       "</table>\n",
       "</div>"
      ],
      "text/plain": [
       "     0    1\n",
       "0  770  770"
      ]
     },
     "execution_count": 353,
     "metadata": {},
     "output_type": "execute_result"
    }
   ],
   "source": [
    "X_pred= pd.DataFrame([[770,770]] )\n",
    "X_pred"
   ]
  },
  {
   "cell_type": "code",
   "execution_count": 354,
   "metadata": {},
   "outputs": [
    {
     "data": {
      "text/plain": [
       "(0.383777716575776, 0.19243743895812063)"
      ]
     },
     "execution_count": 354,
     "metadata": {},
     "output_type": "execute_result"
    }
   ],
   "source": [
    "lr_safe.predict(X_pred)[0], rf_safe.predict(X_pred)[0]"
   ]
  },
  {
   "cell_type": "code",
   "execution_count": 363,
   "metadata": {},
   "outputs": [],
   "source": [
    "adm_preds = rf_safe.predict(X_pred)[0] #+ (lr_safe.predict(X_pred)[0] - rf_safe.predict(X_pred)[0])/6."
   ]
  },
  {
   "cell_type": "code",
   "execution_count": 364,
   "metadata": {},
   "outputs": [
    {
     "data": {
      "text/html": [
       "<div>\n",
       "<style scoped>\n",
       "    .dataframe tbody tr th:only-of-type {\n",
       "        vertical-align: middle;\n",
       "    }\n",
       "\n",
       "    .dataframe tbody tr th {\n",
       "        vertical-align: top;\n",
       "    }\n",
       "\n",
       "    .dataframe thead th {\n",
       "        text-align: right;\n",
       "    }\n",
       "</style>\n",
       "<table border=\"1\" class=\"dataframe\">\n",
       "  <thead>\n",
       "    <tr style=\"text-align: right;\">\n",
       "      <th></th>\n",
       "      <th>instnm</th>\n",
       "      <th>stabbr</th>\n",
       "      <th>adm_rate_all</th>\n",
       "      <th>satvr25</th>\n",
       "      <th>satvr75</th>\n",
       "      <th>satmt25</th>\n",
       "      <th>satmt75</th>\n",
       "      <th>satvrmid</th>\n",
       "      <th>satmtmid</th>\n",
       "      <th>sat_avg_all</th>\n",
       "    </tr>\n",
       "  </thead>\n",
       "  <tbody>\n",
       "    <tr>\n",
       "      <th>1131</th>\n",
       "      <td>University of Notre Dame</td>\n",
       "      <td>IN</td>\n",
       "      <td>0.189225</td>\n",
       "      <td>680.0</td>\n",
       "      <td>750.0</td>\n",
       "      <td>690.0</td>\n",
       "      <td>770.0</td>\n",
       "      <td>715.0</td>\n",
       "      <td>730.0</td>\n",
       "      <td>1486.0</td>\n",
       "    </tr>\n",
       "    <tr>\n",
       "      <th>229</th>\n",
       "      <td>University of California-Berkeley</td>\n",
       "      <td>CA</td>\n",
       "      <td>0.171076</td>\n",
       "      <td>630.0</td>\n",
       "      <td>720.0</td>\n",
       "      <td>630.0</td>\n",
       "      <td>760.0</td>\n",
       "      <td>675.0</td>\n",
       "      <td>695.0</td>\n",
       "      <td>1414.0</td>\n",
       "    </tr>\n",
       "    <tr>\n",
       "      <th>3615</th>\n",
       "      <td>Middlebury College</td>\n",
       "      <td>VT</td>\n",
       "      <td>0.170951</td>\n",
       "      <td>660.0</td>\n",
       "      <td>750.0</td>\n",
       "      <td>660.0</td>\n",
       "      <td>760.0</td>\n",
       "      <td>705.0</td>\n",
       "      <td>710.0</td>\n",
       "      <td>1446.0</td>\n",
       "    </tr>\n",
       "    <tr>\n",
       "      <th>232</th>\n",
       "      <td>University of California-Los Angeles</td>\n",
       "      <td>CA</td>\n",
       "      <td>0.160978</td>\n",
       "      <td>620.0</td>\n",
       "      <td>710.0</td>\n",
       "      <td>600.0</td>\n",
       "      <td>740.0</td>\n",
       "      <td>665.0</td>\n",
       "      <td>670.0</td>\n",
       "      <td>1387.0</td>\n",
       "    </tr>\n",
       "    <tr>\n",
       "      <th>1957</th>\n",
       "      <td>Washington University in St Louis</td>\n",
       "      <td>MO</td>\n",
       "      <td>0.159636</td>\n",
       "      <td>720.0</td>\n",
       "      <td>770.0</td>\n",
       "      <td>750.0</td>\n",
       "      <td>800.0</td>\n",
       "      <td>745.0</td>\n",
       "      <td>775.0</td>\n",
       "      <td>1508.0</td>\n",
       "    </tr>\n",
       "  </tbody>\n",
       "</table>\n",
       "</div>"
      ],
      "text/plain": [
       "                                    instnm stabbr  adm_rate_all  satvr25  \\\n",
       "1131              University of Notre Dame     IN      0.189225    680.0   \n",
       "229      University of California-Berkeley     CA      0.171076    630.0   \n",
       "3615                    Middlebury College     VT      0.170951    660.0   \n",
       "232   University of California-Los Angeles     CA      0.160978    620.0   \n",
       "1957     Washington University in St Louis     MO      0.159636    720.0   \n",
       "\n",
       "      satvr75  satmt25  satmt75  satvrmid  satmtmid  sat_avg_all  \n",
       "1131    750.0    690.0    770.0     715.0     730.0       1486.0  \n",
       "229     720.0    630.0    760.0     675.0     695.0       1414.0  \n",
       "3615    750.0    660.0    760.0     705.0     710.0       1446.0  \n",
       "232     710.0    600.0    740.0     665.0     670.0       1387.0  \n",
       "1957    770.0    750.0    800.0     745.0     775.0       1508.0  "
      ]
     },
     "execution_count": 364,
     "metadata": {},
     "output_type": "execute_result"
    }
   ],
   "source": [
    "df_regression[df_regression['adm_rate_all'] < (adm_preds)].sort_values(by='adm_rate_all', ascending=False).head(5)"
   ]
  },
  {
   "cell_type": "markdown",
   "metadata": {},
   "source": [
    "### Reach Category Colleges"
   ]
  },
  {
   "cell_type": "code",
   "execution_count": 378,
   "metadata": {},
   "outputs": [],
   "source": [
    "#X= df_regreasion[['satvr25','satvr75','satmt25','satmt75']]\n",
    "#X= df_regreasion[['satvr75','satmt75']] # Safety\n",
    "#X= df_regreasion[['satvr25','satmt25','satvrmid', 'satmtmid',]] # reach\n",
    "#X= df_regreasion[['satvrmid', 'satmtmid','sat_avg_all']] # target sat_avg_all\n",
    "X= df_regression[['satvr25','satmt25','sat_avg_all']] # reach\n",
    "y= df_regression['adm_rate_all'] # .map(np.log)\n",
    "X_train, X_test, y_train, y_test = train_test_split(X, y)"
   ]
  },
  {
   "cell_type": "markdown",
   "metadata": {},
   "source": [
    "Linear Regression"
   ]
  },
  {
   "cell_type": "code",
   "execution_count": 379,
   "metadata": {},
   "outputs": [
    {
     "name": "stdout",
     "output_type": "stream",
     "text": [
      "Train MSE: 0.006275551925643107\n",
      "Test MSE: 0.005793406784552863\n",
      "Train RMSE: 0.07921838123594238\n",
      "Test RMSE: 0.07611443216994306\n",
      "Train R-squared: 0.771709607260485\n",
      "Test R-squared: 0.7833171497809391\n",
      "cross_val_score: 0.7702630186936834\n"
     ]
    }
   ],
   "source": [
    "lr_safe = run_lr(X_train, X_test, y_train, y_test)    "
   ]
  },
  {
   "cell_type": "markdown",
   "metadata": {},
   "source": [
    "Random Forest"
   ]
  },
  {
   "cell_type": "code",
   "execution_count": 380,
   "metadata": {},
   "outputs": [
    {
     "name": "stdout",
     "output_type": "stream",
     "text": [
      " Best Params: {'max_depth': None, 'max_features': None, 'min_samples_leaf': 10, 'n_estimators': 200}\n",
      "Train MSE: 0.003822696333150092\n",
      "Test MSE: 0.005028317677475546\n",
      "Train RMSE: 0.06182795753662005\n",
      "Test RMSE: 0.07091063162513465\n",
      "Train R-squared: 0.8609389488671457\n",
      "Test R-squared: 0.8119327285859866\n",
      "cross_val_score: 0.7702630186936834\n"
     ]
    }
   ],
   "source": [
    "rf_safe = run_rf(X_train, X_test, y_train, y_test)"
   ]
  },
  {
   "cell_type": "code",
   "execution_count": 381,
   "metadata": {},
   "outputs": [
    {
     "data": {
      "text/html": [
       "<div>\n",
       "<style scoped>\n",
       "    .dataframe tbody tr th:only-of-type {\n",
       "        vertical-align: middle;\n",
       "    }\n",
       "\n",
       "    .dataframe tbody tr th {\n",
       "        vertical-align: top;\n",
       "    }\n",
       "\n",
       "    .dataframe thead th {\n",
       "        text-align: right;\n",
       "    }\n",
       "</style>\n",
       "<table border=\"1\" class=\"dataframe\">\n",
       "  <thead>\n",
       "    <tr style=\"text-align: right;\">\n",
       "      <th></th>\n",
       "      <th>0</th>\n",
       "      <th>1</th>\n",
       "      <th>2</th>\n",
       "    </tr>\n",
       "  </thead>\n",
       "  <tbody>\n",
       "    <tr>\n",
       "      <th>0</th>\n",
       "      <td>770</td>\n",
       "      <td>770</td>\n",
       "      <td>1540</td>\n",
       "    </tr>\n",
       "  </tbody>\n",
       "</table>\n",
       "</div>"
      ],
      "text/plain": [
       "     0    1     2\n",
       "0  770  770  1540"
      ]
     },
     "execution_count": 381,
     "metadata": {},
     "output_type": "execute_result"
    }
   ],
   "source": [
    "X_pred= pd.DataFrame([[770,770,1540]] )\n",
    "X_pred"
   ]
  },
  {
   "cell_type": "code",
   "execution_count": 382,
   "metadata": {},
   "outputs": [
    {
     "data": {
      "text/plain": [
       "(0.34699007447839214, 0.1187928161819641)"
      ]
     },
     "execution_count": 382,
     "metadata": {},
     "output_type": "execute_result"
    }
   ],
   "source": [
    "lr_safe.predict(X_pred)[0], rf_safe.predict(X_pred)[0]"
   ]
  },
  {
   "cell_type": "code",
   "execution_count": 383,
   "metadata": {},
   "outputs": [],
   "source": [
    "adm_preds = rf_safe.predict(X_pred)[0] #+ (lr_safe.predict(X_pred)[0] - rf_safe.predict(X_pred)[0])/5."
   ]
  },
  {
   "cell_type": "code",
   "execution_count": 384,
   "metadata": {},
   "outputs": [
    {
     "data": {
      "text/html": [
       "<div>\n",
       "<style scoped>\n",
       "    .dataframe tbody tr th:only-of-type {\n",
       "        vertical-align: middle;\n",
       "    }\n",
       "\n",
       "    .dataframe tbody tr th {\n",
       "        vertical-align: top;\n",
       "    }\n",
       "\n",
       "    .dataframe thead th {\n",
       "        text-align: right;\n",
       "    }\n",
       "</style>\n",
       "<table border=\"1\" class=\"dataframe\">\n",
       "  <thead>\n",
       "    <tr style=\"text-align: right;\">\n",
       "      <th></th>\n",
       "      <th>instnm</th>\n",
       "      <th>stabbr</th>\n",
       "      <th>adm_rate_all</th>\n",
       "      <th>satvr25</th>\n",
       "      <th>satvr75</th>\n",
       "      <th>satmt25</th>\n",
       "      <th>satmt75</th>\n",
       "      <th>satvrmid</th>\n",
       "      <th>satmtmid</th>\n",
       "      <th>sat_avg_all</th>\n",
       "    </tr>\n",
       "  </thead>\n",
       "  <tbody>\n",
       "    <tr>\n",
       "      <th>3388</th>\n",
       "      <td>Vanderbilt University</td>\n",
       "      <td>TN</td>\n",
       "      <td>0.108544</td>\n",
       "      <td>710.0</td>\n",
       "      <td>770.0</td>\n",
       "      <td>730.0</td>\n",
       "      <td>800.0</td>\n",
       "      <td>740.0</td>\n",
       "      <td>765.0</td>\n",
       "      <td>1515.0</td>\n",
       "    </tr>\n",
       "    <tr>\n",
       "      <th>3154</th>\n",
       "      <td>Swarthmore College</td>\n",
       "      <td>PA</td>\n",
       "      <td>0.107013</td>\n",
       "      <td>690.0</td>\n",
       "      <td>760.0</td>\n",
       "      <td>690.0</td>\n",
       "      <td>780.0</td>\n",
       "      <td>725.0</td>\n",
       "      <td>735.0</td>\n",
       "      <td>1473.0</td>\n",
       "    </tr>\n",
       "    <tr>\n",
       "      <th>2036</th>\n",
       "      <td>Dartmouth College</td>\n",
       "      <td>NH</td>\n",
       "      <td>0.104467</td>\n",
       "      <td>710.0</td>\n",
       "      <td>770.0</td>\n",
       "      <td>720.0</td>\n",
       "      <td>790.0</td>\n",
       "      <td>740.0</td>\n",
       "      <td>755.0</td>\n",
       "      <td>1483.0</td>\n",
       "    </tr>\n",
       "    <tr>\n",
       "      <th>268</th>\n",
       "      <td>Claremont McKenna College</td>\n",
       "      <td>CA</td>\n",
       "      <td>0.103638</td>\n",
       "      <td>660.0</td>\n",
       "      <td>740.0</td>\n",
       "      <td>680.0</td>\n",
       "      <td>770.0</td>\n",
       "      <td>700.0</td>\n",
       "      <td>725.0</td>\n",
       "      <td>1452.0</td>\n",
       "    </tr>\n",
       "    <tr>\n",
       "      <th>2498</th>\n",
       "      <td>Duke University</td>\n",
       "      <td>NC</td>\n",
       "      <td>0.098588</td>\n",
       "      <td>670.0</td>\n",
       "      <td>750.0</td>\n",
       "      <td>710.0</td>\n",
       "      <td>790.0</td>\n",
       "      <td>710.0</td>\n",
       "      <td>750.0</td>\n",
       "      <td>1488.0</td>\n",
       "    </tr>\n",
       "  </tbody>\n",
       "</table>\n",
       "</div>"
      ],
      "text/plain": [
       "                         instnm stabbr  adm_rate_all  satvr25  satvr75  \\\n",
       "3388      Vanderbilt University     TN      0.108544    710.0    770.0   \n",
       "3154         Swarthmore College     PA      0.107013    690.0    760.0   \n",
       "2036          Dartmouth College     NH      0.104467    710.0    770.0   \n",
       "268   Claremont McKenna College     CA      0.103638    660.0    740.0   \n",
       "2498            Duke University     NC      0.098588    670.0    750.0   \n",
       "\n",
       "      satmt25  satmt75  satvrmid  satmtmid  sat_avg_all  \n",
       "3388    730.0    800.0     740.0     765.0       1515.0  \n",
       "3154    690.0    780.0     725.0     735.0       1473.0  \n",
       "2036    720.0    790.0     740.0     755.0       1483.0  \n",
       "268     680.0    770.0     700.0     725.0       1452.0  \n",
       "2498    710.0    790.0     710.0     750.0       1488.0  "
      ]
     },
     "execution_count": 384,
     "metadata": {},
     "output_type": "execute_result"
    }
   ],
   "source": [
    "df_regression[df_regression['adm_rate_all'] < (adm_preds)].sort_values(by='adm_rate_all', ascending=False).head(5)"
   ]
  },
  {
   "cell_type": "code",
   "execution_count": null,
   "metadata": {},
   "outputs": [],
   "source": []
  },
  {
   "cell_type": "code",
   "execution_count": null,
   "metadata": {},
   "outputs": [],
   "source": []
  },
  {
   "cell_type": "code",
   "execution_count": null,
   "metadata": {},
   "outputs": [],
   "source": []
  }
 ],
 "metadata": {
  "kernelspec": {
   "display_name": "Python 3",
   "language": "python",
   "name": "python3"
  },
  "language_info": {
   "codemirror_mode": {
    "name": "ipython",
    "version": 3
   },
   "file_extension": ".py",
   "mimetype": "text/x-python",
   "name": "python",
   "nbconvert_exporter": "python",
   "pygments_lexer": "ipython3",
   "version": "3.7.4"
  }
 },
 "nbformat": 4,
 "nbformat_minor": 2
}
